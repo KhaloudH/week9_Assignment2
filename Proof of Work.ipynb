{
 "cells": [
  {
   "cell_type": "code",
   "execution_count": null,
   "id": "b380bcc8-ca7a-43b3-ad21-ad3c8b77c588",
   "metadata": {},
   "outputs": [],
   "source": [
    "import hashlib # imports library with SHA-256 hashing algo\n",
    "import datetime # imports library to track time"
   ]
  },
  {
   "cell_type": "code",
   "execution_count": 2,
   "id": "16c45b69-c8c7-4c11-8cfd-dbed5af4f49f",
   "metadata": {},
   "outputs": [
    {
     "name": "stdout",
     "output_type": "stream",
     "text": [
      "The hash is: 0000000399c6aea5ad0c709a9bc331a3ed6494702bd1d129d8c817a0257a1462\n",
      "The nonce is: 665783\n",
      "Time elapsed: 0:00:02.773239\n"
     ]
    }
   ],
   "source": [
    "t1 = datetime.datetime.now() # start time\n",
    "nonce = 1 # Starts the nonce at 1\n",
    "solution = False\n",
    "while solution == False: # loop until true\n",
    "    ourhash = hashlib.sha256(str(nonce).encode()).hexdigest() # inputs nonce into hash function\n",
    "    if ourhash[:7] == '0000000': # look for hash with 7 proceeding zeros\n",
    "        solution =True # those who find the solution will have 'proved' they put in 'work'\n",
    "    nonce +=1 # increase nonce by 1 and try again\n",
    "t2 = datetime.datetime.now() # end time\n",
    "duration = t2 - t1 # time elapsed\n",
    "print (\"The hash is:\",ourhash)\n",
    "print (\"The nonce is:\",nonce)    \n",
    "print (\"Time elapsed:\",duration)"
   ]
  },
  {
   "cell_type": "code",
   "execution_count": 3,
   "id": "5826cfe6-abbb-4a60-aa55-4807f07de90f",
   "metadata": {},
   "outputs": [
    {
     "name": "stdout",
     "output_type": "stream",
     "text": [
      "The hash is: 00000000690ed426ccf17803ebe2bd0884bcd58a1bb5e7477ead3645f356e7a9\n",
      "The nonce is: 426479725\n",
      "Time elapsed: 0:30:56.972290\n"
     ]
    }
   ],
   "source": [
    "t1 = datetime.datetime.now() # start time\n",
    "nonce = 1 # Starts the nonce at 1\n",
    "solution = False\n",
    "while solution == False: # loop until true\n",
    "    ourhash = hashlib.sha256(str(nonce).encode()).hexdigest() # inputs nonce into hash function\n",
    "    if ourhash[:8] == '00000000': # look for hash with 7 proceeding zeros\n",
    "        solution =True # those who find the solution will have 'proved' they put in 'work'\n",
    "    nonce +=1 # increase nonce by 1 and try again\n",
    "t2 = datetime.datetime.now() # end time\n",
    "duration = t2 - t1 # time elapsed\n",
    "print (\"The hash is:\",ourhash)\n",
    "print (\"The nonce is:\",nonce)    \n",
    "print (\"Time elapsed:\",duration)"
   ]
  },
  {
   "cell_type": "code",
   "execution_count": null,
   "id": "132c1371-c91e-4c9b-a507-fec8189fd753",
   "metadata": {},
   "outputs": [],
   "source": []
  }
 ],
 "metadata": {
  "kernelspec": {
   "display_name": "Python 3",
   "language": "python",
   "name": "python3"
  },
  "language_info": {
   "codemirror_mode": {
    "name": "ipython",
    "version": 3
   },
   "file_extension": ".py",
   "mimetype": "text/x-python",
   "name": "python",
   "nbconvert_exporter": "python",
   "pygments_lexer": "ipython3",
   "version": "3.8.8"
  }
 },
 "nbformat": 4,
 "nbformat_minor": 5
}
